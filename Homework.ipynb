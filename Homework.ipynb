{
 "cells": [
  {
   "cell_type": "code",
   "execution_count": 1,
   "metadata": {},
   "outputs": [
    {
     "name": "stdout",
     "output_type": "stream",
     "text": [
      "\u001b[32m\u001b[1m  Updating\u001b[22m\u001b[39m registry at `/srv/julia/pkg/registries/General`\n",
      "\u001b[32m\u001b[1m  Updating\u001b[22m\u001b[39m git-repo `https://github.com/JuliaRegistries/General.git`\n",
      "\u001b[?25l\u001b[2K\u001b[?25h\u001b[32m\u001b[1m Resolving\u001b[22m\u001b[39m package versions...\n",
      "\u001b[32m\u001b[1m Installed\u001b[22m\u001b[39m IniFile ────────────── v0.5.0\n",
      "\u001b[32m\u001b[1m Installed\u001b[22m\u001b[39m JSONSchema ─────────── v0.2.0\n",
      "\u001b[32m\u001b[1m Installed\u001b[22m\u001b[39m OrderedCollections ─── v1.1.0\n",
      "\u001b[32m\u001b[1m Installed\u001b[22m\u001b[39m DiffResults ────────── v1.0.2\n",
      "\u001b[32m\u001b[1m Installed\u001b[22m\u001b[39m SpecialFunctions ───── v0.9.0\n",
      "\u001b[32m\u001b[1m Installed\u001b[22m\u001b[39m DataStructures ─────── v0.17.7\n",
      "\u001b[32m\u001b[1m Installed\u001b[22m\u001b[39m StaticArrays ───────── v0.12.1\n",
      "\u001b[32m\u001b[1m Installed\u001b[22m\u001b[39m JuMP ───────────────── v0.20.1\n",
      "\u001b[32m\u001b[1m Installed\u001b[22m\u001b[39m NaNMath ────────────── v0.3.3\n",
      "\u001b[32m\u001b[1m Installed\u001b[22m\u001b[39m CommonSubexpressions ─ v0.2.0\n",
      "\u001b[32m\u001b[1m Installed\u001b[22m\u001b[39m ForwardDiff ────────── v0.10.8\n",
      "\u001b[32m\u001b[1m Installed\u001b[22m\u001b[39m CodecBzip2 ─────────── v0.6.0\n",
      "\u001b[32m\u001b[1m Installed\u001b[22m\u001b[39m DiffRules ──────────── v1.0.0\n",
      "\u001b[32m\u001b[1m Installed\u001b[22m\u001b[39m Calculus ───────────── v0.5.1\n",
      "\u001b[32m\u001b[1m Installed\u001b[22m\u001b[39m OpenSpecFun_jll ────── v0.5.3+1\n",
      "\u001b[32m\u001b[1m Installed\u001b[22m\u001b[39m MathOptInterface ───── v0.9.9\n",
      "\u001b[32m\u001b[1m Installed\u001b[22m\u001b[39m CodecZlib ──────────── v0.6.0\n",
      "\u001b[32m\u001b[1m Installed\u001b[22m\u001b[39m BenchmarkTools ─────── v0.4.3\n",
      "\u001b[32m\u001b[1m Installed\u001b[22m\u001b[39m HTTP ───────────────── v0.8.8\n",
      "\u001b[32m\u001b[1m Installed\u001b[22m\u001b[39m MutableArithmetics ─── v0.2.0\n",
      "\u001b[32m\u001b[1m Installed\u001b[22m\u001b[39m TranscodingStreams ─── v0.9.5\n",
      "\u001b[32m\u001b[1m  Updating\u001b[22m\u001b[39m `~/Project.toml`\n",
      " \u001b[90m [4076af6c]\u001b[39m\u001b[92m + JuMP v0.20.1\u001b[39m\n",
      "\u001b[32m\u001b[1m  Updating\u001b[22m\u001b[39m `~/Manifest.toml`\n",
      " \u001b[90m [6e4b80f9]\u001b[39m\u001b[92m + BenchmarkTools v0.4.3\u001b[39m\n",
      " \u001b[90m [b99e7846]\u001b[39m\u001b[92m + BinaryProvider v0.5.8\u001b[39m\n",
      " \u001b[90m [49dc2e85]\u001b[39m\u001b[92m + Calculus v0.5.1\u001b[39m\n",
      " \u001b[90m [523fee87]\u001b[39m\u001b[92m + CodecBzip2 v0.6.0\u001b[39m\n",
      " \u001b[90m [944b1d66]\u001b[39m\u001b[92m + CodecZlib v0.6.0\u001b[39m\n",
      " \u001b[90m [bbf7d656]\u001b[39m\u001b[92m + CommonSubexpressions v0.2.0\u001b[39m\n",
      " \u001b[90m [864edb3b]\u001b[39m\u001b[92m + DataStructures v0.17.7\u001b[39m\n",
      " \u001b[90m [163ba53b]\u001b[39m\u001b[92m + DiffResults v1.0.2\u001b[39m\n",
      " \u001b[90m [b552c78f]\u001b[39m\u001b[92m + DiffRules v1.0.0\u001b[39m\n",
      " \u001b[90m [f6369f11]\u001b[39m\u001b[92m + ForwardDiff v0.10.8\u001b[39m\n",
      " \u001b[90m [cd3eb016]\u001b[39m\u001b[92m + HTTP v0.8.8\u001b[39m\n",
      " \u001b[90m [83e8ac13]\u001b[39m\u001b[92m + IniFile v0.5.0\u001b[39m\n",
      " \u001b[90m [682c06a0]\u001b[39m\u001b[92m + JSON v0.21.0\u001b[39m\n",
      " \u001b[90m [7d188eb4]\u001b[39m\u001b[92m + JSONSchema v0.2.0\u001b[39m\n",
      " \u001b[90m [4076af6c]\u001b[39m\u001b[92m + JuMP v0.20.1\u001b[39m\n",
      " \u001b[90m [b8f27783]\u001b[39m\u001b[92m + MathOptInterface v0.9.9\u001b[39m\n",
      " \u001b[90m [739be429]\u001b[39m\u001b[92m + MbedTLS v0.7.0\u001b[39m\n",
      " \u001b[90m [d8a4904e]\u001b[39m\u001b[92m + MutableArithmetics v0.2.0\u001b[39m\n",
      " \u001b[90m [77ba4419]\u001b[39m\u001b[92m + NaNMath v0.3.3\u001b[39m\n",
      " \u001b[90m [efe28fd5]\u001b[39m\u001b[92m + OpenSpecFun_jll v0.5.3+1\u001b[39m\n",
      " \u001b[90m [bac558e1]\u001b[39m\u001b[92m + OrderedCollections v1.1.0\u001b[39m\n",
      " \u001b[90m [69de0a69]\u001b[39m\u001b[92m + Parsers v0.3.10\u001b[39m\n",
      " \u001b[90m [276daf66]\u001b[39m\u001b[92m + SpecialFunctions v0.9.0\u001b[39m\n",
      " \u001b[90m [90137ffa]\u001b[39m\u001b[92m + StaticArrays v0.12.1\u001b[39m\n",
      " \u001b[90m [3bb67fe8]\u001b[39m\u001b[92m + TranscodingStreams v0.9.5\u001b[39m\n",
      " \u001b[90m [2a0f44e3]\u001b[39m\u001b[92m + Base64 \u001b[39m\n",
      " \u001b[90m [ade2ca70]\u001b[39m\u001b[92m + Dates \u001b[39m\n",
      " \u001b[90m [8ba89e20]\u001b[39m\u001b[92m + Distributed \u001b[39m\n",
      " \u001b[90m [b77e0a4c]\u001b[39m\u001b[92m + InteractiveUtils \u001b[39m\n",
      " \u001b[90m [76f85450]\u001b[39m\u001b[92m + LibGit2 \u001b[39m\n",
      " \u001b[90m [8f399da3]\u001b[39m\u001b[92m + Libdl \u001b[39m\n",
      " \u001b[90m [37e2e46d]\u001b[39m\u001b[92m + LinearAlgebra \u001b[39m\n",
      " \u001b[90m [56ddb016]\u001b[39m\u001b[92m + Logging \u001b[39m\n",
      " \u001b[90m [d6f4376e]\u001b[39m\u001b[92m + Markdown \u001b[39m\n",
      " \u001b[90m [a63ad114]\u001b[39m\u001b[92m + Mmap \u001b[39m\n",
      " \u001b[90m [44cfe95a]\u001b[39m\u001b[92m + Pkg \u001b[39m\n",
      " \u001b[90m [de0858da]\u001b[39m\u001b[92m + Printf \u001b[39m\n",
      " \u001b[90m [3fa0cd96]\u001b[39m\u001b[92m + REPL \u001b[39m\n",
      " \u001b[90m [9a3f8284]\u001b[39m\u001b[92m + Random \u001b[39m\n",
      " \u001b[90m [ea8e919c]\u001b[39m\u001b[92m + SHA \u001b[39m\n",
      " \u001b[90m [9e88b42a]\u001b[39m\u001b[92m + Serialization \u001b[39m\n",
      " \u001b[90m [6462fe0b]\u001b[39m\u001b[92m + Sockets \u001b[39m\n",
      " \u001b[90m [2f01184e]\u001b[39m\u001b[92m + SparseArrays \u001b[39m\n",
      " \u001b[90m [10745b16]\u001b[39m\u001b[92m + Statistics \u001b[39m\n",
      " \u001b[90m [8dfed614]\u001b[39m\u001b[92m + Test \u001b[39m\n",
      " \u001b[90m [cf7118a7]\u001b[39m\u001b[92m + UUIDs \u001b[39m\n",
      " \u001b[90m [4ec0a83e]\u001b[39m\u001b[92m + Unicode \u001b[39m\n",
      "\u001b[32m\u001b[1m  Building\u001b[22m\u001b[39m CodecBzip2 → `/srv/julia/pkg/packages/CodecBzip2/T5yr7/deps/build.log`\n",
      "\u001b[32m\u001b[1m  Building\u001b[22m\u001b[39m CodecZlib ─→ `/srv/julia/pkg/packages/CodecZlib/5t9zO/deps/build.log`\n",
      "\u001b[32m\u001b[1m Resolving\u001b[22m\u001b[39m package versions...\n",
      "\u001b[32m\u001b[1m Installed\u001b[22m\u001b[39m Compat ─────── v2.2.0\n",
      "\u001b[32m\u001b[1m Installed\u001b[22m\u001b[39m Cbc ────────── v0.6.6\n",
      "\u001b[32m\u001b[1m Installed\u001b[22m\u001b[39m MathProgBase ─ v0.7.7\n",
      "\u001b[32m\u001b[1m  Updating\u001b[22m\u001b[39m `~/Project.toml`\n",
      " \u001b[90m [9961bab8]\u001b[39m\u001b[92m + Cbc v0.6.6\u001b[39m\n",
      "\u001b[32m\u001b[1m  Updating\u001b[22m\u001b[39m `~/Manifest.toml`\n",
      " \u001b[90m [9961bab8]\u001b[39m\u001b[92m + Cbc v0.6.6\u001b[39m\n",
      " \u001b[90m [34da2185]\u001b[39m\u001b[92m + Compat v2.2.0\u001b[39m\n",
      " \u001b[90m [fdba3010]\u001b[39m\u001b[92m + MathProgBase v0.7.7\u001b[39m\n",
      " \u001b[90m [8bb1440f]\u001b[39m\u001b[92m + DelimitedFiles \u001b[39m\n",
      " \u001b[90m [1a1011a3]\u001b[39m\u001b[92m + SharedArrays \u001b[39m\n",
      "\u001b[32m\u001b[1m  Building\u001b[22m\u001b[39m Cbc → `/srv/julia/pkg/packages/Cbc/vWzyC/deps/build.log`\n"
     ]
    }
   ],
   "source": [
    "import Pkg;\n",
    "Pkg.add(\"JuMP\")\n",
    "Pkg.add(\"Cbc\")"
   ]
  },
  {
   "cell_type": "code",
   "execution_count": 2,
   "metadata": {},
   "outputs": [],
   "source": [
    "P = [1 1 0 0 0 0 0 0 0 0;     \n",
    "     0 0 1 1 0 0 0 0 0 0;     \n",
    "     0 0 0 0 1 1 0 0 0 0;     \n",
    "     0 0 0 0 0 0 1 1 0 0;     \n",
    "     0 0 0 0 0 0 0 0 1 1 ];  "
   ]
  },
  {
   "cell_type": "code",
   "execution_count": 3,
   "metadata": {},
   "outputs": [],
   "source": [
    "S = [1 1 0 1 0 0 0 0 0 0;    \n",
    "     0 0 1 0 1 0 0 1 0 0;    \n",
    "     0 0 1 0 1 0 0 1 0 0;  \n",
    "     0 0 1 0 1 0 0 1 0 0;  \n",
    "     0 0 1 0 1 0 0 1 0 0;   \n",
    "     1 1 0 1 0 0 0 0 0 0;   \n",
    "     0 0 0 0 0 1 1 0 0 1;  \n",
    "     0 0 0 0 0 1 1 0 0 1;  \n",
    "     0 0 0 0 0 1 1 0 0 1;   \n",
    "     1 1 0 1 0 0 0 0 0 0;  \n",
    "     1 1 0 1 0 0 0 0 0 0; \n",
    "     0 0 0 0 0 0 1 0 1 1;  \n",
    "     0 0 0 0 0 0 1 0 1 1;  \n",
    "     0 0 0 0 0 0 1 0 1 1;\n",
    "     0 0 0 0 0 0 1 0 1 1]; "
   ]
  },
  {
   "cell_type": "code",
   "execution_count": 4,
   "metadata": {},
   "outputs": [],
   "source": [
    "nc = 10;  # Number of courses\n",
    "ns = 15; # Number of students\n",
    "np = 5;  # Number of professors\n",
    "nt = 6;  # Number of time slots\n",
    "nr = 4;  # Number of classrooms"
   ]
  },
  {
   "cell_type": "code",
   "execution_count": 5,
   "metadata": {},
   "outputs": [
    {
     "name": "stderr",
     "output_type": "stream",
     "text": [
      "┌ Info: Precompiling JuMP [4076af6c-e467-56ae-b986-b466b2749572]\n",
      "└ @ Base loading.jl:1273\n",
      "┌ Info: Precompiling Cbc [9961bab8-2fa3-5c5a-9d89-47fab24efd76]\n",
      "└ @ Base loading.jl:1273\n"
     ]
    }
   ],
   "source": [
    "using JuMP, Cbc"
   ]
  },
  {
   "cell_type": "code",
   "execution_count": 6,
   "metadata": {},
   "outputs": [
    {
     "data": {
      "text/latex": [
       "$$ \\begin{alignat*}{1}\\text{feasibility}\\\\\n",
       "\\text{Subject to} \\quad\\end{alignat*}\n",
       " $$"
      ],
      "text/plain": [
       "A JuMP Model\n",
       "Feasibility problem with:\n",
       "Variables: 0\n",
       "Model mode: AUTOMATIC\n",
       "CachingOptimizer state: EMPTY_OPTIMIZER\n",
       "Solver name: COIN Branch-and-Cut (Cbc)"
      ]
     },
     "execution_count": 6,
     "metadata": {},
     "output_type": "execute_result"
    }
   ],
   "source": [
    "m = Model(with_optimizer(Cbc.Optimizer))"
   ]
  },
  {
   "cell_type": "code",
   "execution_count": 7,
   "metadata": {},
   "outputs": [
    {
     "name": "stdout",
     "output_type": "stream",
     "text": [
      "Feasibility\n",
      "Subject to\n"
     ]
    }
   ],
   "source": [
    "print(m)"
   ]
  },
  {
   "cell_type": "code",
   "execution_count": 8,
   "metadata": {},
   "outputs": [
    {
     "name": "stdout",
     "output_type": "stream",
     "text": [
      "Welcome to the CBC MILP Solver \n",
      "Version: 2.10.3 \n",
      "Build Date: Oct  7 2019 \n",
      "\n",
      "command line - Cbc_C_Interface -solve -quit (default strategy 1)\n",
      "** Current model not valid\n",
      "Total time (CPU seconds):       0.00   (Wallclock seconds):       0.00\n",
      "\n"
     ]
    }
   ],
   "source": [
    "optimize!(m)"
   ]
  },
  {
   "cell_type": "code",
   "execution_count": null,
   "metadata": {},
   "outputs": [],
   "source": []
  }
 ],
 "metadata": {
  "kernelspec": {
   "display_name": "Julia 1.3.0",
   "language": "julia",
   "name": "julia-1.3"
  },
  "language_info": {
   "file_extension": ".jl",
   "mimetype": "application/julia",
   "name": "julia",
   "version": "1.3.0"
  }
 },
 "nbformat": 4,
 "nbformat_minor": 2
}
